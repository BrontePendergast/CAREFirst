{
 "cells": [
  {
   "cell_type": "code",
   "execution_count": 50,
   "id": "8e99ffc3",
   "metadata": {},
   "outputs": [],
   "source": [
    "from openai import OpenAI\n",
    "import os\n",
    "# import dotenv\n",
    "import poetry\n",
    "client = OpenAI()\n",
    "# OpenAI.api_key=os.getenv('OPENAI_API_KEY')\n",
    "\n",
    "# OpenAI API key\n",
    "\n",
    "\n",
    "# load_dotenv()\n",
    "# openai.api_key = os.getenv(\"OPENAI_API_KEY\")        \n",
    "# llm = ChatOpenAI(model_name=model_name, openai_api_key=openai.api_key) # JS add openai key\n",
    "\n",
    "gpt_model = 'gpt-3.5-turbo-0125'\n",
    "\n",
    "def gpt3_response(prompt):\n",
    "    response = client.chat.completions.create(\n",
    "        model=gpt_model,\n",
    "        messages=[{'role': 'user', 'content': prompt}],\n",
    "        max_tokens=2048,\n",
    "    )\n",
    "    return response.choices[0].message.content\n",
    "#     return response\n"
   ]
  },
  {
   "cell_type": "code",
   "execution_count": 51,
   "id": "123752cc",
   "metadata": {},
   "outputs": [],
   "source": [
    "response = gpt3_response('hi')"
   ]
  },
  {
   "cell_type": "code",
   "execution_count": 32,
   "id": "9fbf2196",
   "metadata": {},
   "outputs": [
    {
     "data": {
      "text/plain": [
       "'Hello! How can I assist you today?'"
      ]
     },
     "execution_count": 32,
     "metadata": {},
     "output_type": "execute_result"
    }
   ],
   "source": [
    "response.choices[0].message.content"
   ]
  },
  {
   "cell_type": "code",
   "execution_count": 52,
   "id": "a79a81af",
   "metadata": {},
   "outputs": [
    {
     "data": {
      "text/plain": [
       "'Hello! How can I help you today?'"
      ]
     },
     "execution_count": 52,
     "metadata": {},
     "output_type": "execute_result"
    }
   ],
   "source": [
    "response"
   ]
  },
  {
   "cell_type": "code",
   "execution_count": 56,
   "id": "3af6f1cf",
   "metadata": {},
   "outputs": [],
   "source": [
    "import pandas as pd\n",
    "intents = pd.read_pickle('../../data/intent/redcross_testing.pickle')\n",
    "# chapter_pages = [chapter[\"page\"] for chapter in chapters]"
   ]
  },
  {
   "cell_type": "code",
   "execution_count": 44,
   "id": "b4985f53",
   "metadata": {},
   "outputs": [],
   "source": [
    "intents = intents[:5]"
   ]
  },
  {
   "cell_type": "code",
   "execution_count": 29,
   "id": "163d9c93",
   "metadata": {},
   "outputs": [
    {
     "data": {
      "text/plain": [
       "5"
      ]
     },
     "execution_count": 29,
     "metadata": {},
     "output_type": "execute_result"
    }
   ],
   "source": [
    "len(intents)"
   ]
  },
  {
   "cell_type": "code",
   "execution_count": 30,
   "id": "4c274a5d",
   "metadata": {},
   "outputs": [
    {
     "data": {
      "text/plain": [
       "[{'source': '../data/guidelines/redcross_guidelines.pdf',\n",
       "  'page': 11,\n",
       "  'question': 'What should you have easy access to in case of an emergency?',\n",
       "  'answer': 'First aid kit'},\n",
       " {'source': '../data/guidelines/redcross_guidelines.pdf',\n",
       "  'page': 11,\n",
       "  'question': 'Where should you keep a first aid kit?',\n",
       "  'answer': 'In your home and vehicle'},\n",
       " {'source': '../data/guidelines/redcross_guidelines.pdf',\n",
       "  'page': 11,\n",
       "  'question': 'Where should you know the location of a first aid kit in your workplace?',\n",
       "  'answer': 'Automated external defibrillator (AED)'},\n",
       " {'source': '../data/guidelines/redcross_guidelines.pdf',\n",
       "  'page': 11,\n",
       "  'question': 'What app can you download to have a first aid reference readily available?',\n",
       "  'answer': 'Canadian Red Cross First Aid App'},\n",
       " {'source': '../data/guidelines/redcross_guidelines.pdf',\n",
       "  'page': 11,\n",
       "  'question': 'Where can you purchase first aid kits and supplies?',\n",
       "  'answer': 'Canadian Red Cross online store, drug store, or medical supplies store'}]"
      ]
     },
     "execution_count": 30,
     "metadata": {},
     "output_type": "execute_result"
    }
   ],
   "source": [
    " intents"
   ]
  },
  {
   "cell_type": "code",
   "execution_count": 57,
   "id": "b33ab20d",
   "metadata": {},
   "outputs": [],
   "source": [
    "gpt_responses = []\n",
    "\n",
    "for intent in intents:\n",
    "    item = {'question': intent['question'], 'answer': gpt3_response(intent['question'])}\n",
    "    gpt_responses.append(item)"
   ]
  },
  {
   "cell_type": "code",
   "execution_count": 59,
   "id": "071917f5",
   "metadata": {},
   "outputs": [],
   "source": [
    "import pickle\n",
    "with open('../../data/evaluation/gpt3-5_responses.pickle', 'wb') as f:\n",
    "     pickle.dump(gpt_responses, f)"
   ]
  }
 ],
 "metadata": {
  "kernelspec": {
   "display_name": "Python 3 (ipykernel)",
   "language": "python",
   "name": "python3"
  },
  "language_info": {
   "codemirror_mode": {
    "name": "ipython",
    "version": 3
   },
   "file_extension": ".py",
   "mimetype": "text/x-python",
   "name": "python",
   "nbconvert_exporter": "python",
   "pygments_lexer": "ipython3",
   "version": "3.9.10"
  }
 },
 "nbformat": 4,
 "nbformat_minor": 5
}
